{
 "cells": [
  {
   "cell_type": "code",
   "execution_count": 15,
   "metadata": {},
   "outputs": [],
   "source": [
    "#env kr35\n",
    "import torch\n",
    "#https://github.com/huggingface/transformers"
   ]
  },
  {
   "cell_type": "code",
   "execution_count": 4,
   "metadata": {},
   "outputs": [],
   "source": [
    "from transformers import BertModel,BertTokenizer,GPT2Model,GPT2Tokenizer"
   ]
  },
  {
   "cell_type": "code",
   "execution_count": 5,
   "metadata": {},
   "outputs": [],
   "source": [
    "MODELS = [(BertModel,       BertTokenizer,       'bert-base-uncased'),\n",
    "          (GPT2Model,       GPT2Tokenizer,       'gpt2')]"
   ]
  },
  {
   "cell_type": "code",
   "execution_count": 6,
   "metadata": {
    "collapsed": true
   },
   "outputs": [
    {
     "data": {
      "application/vnd.jupyter.widget-view+json": {
       "model_id": "7f369e6c3aed447caa7b27897bce3df6",
       "version_major": 2,
       "version_minor": 0
      },
      "text/plain": [
       "HBox(children=(FloatProgress(value=0.0, description='Downloading', max=231508.0, style=ProgressStyle(descripti…"
      ]
     },
     "metadata": {},
     "output_type": "display_data"
    },
    {
     "name": "stdout",
     "output_type": "stream",
     "text": [
      "\n"
     ]
    },
    {
     "data": {
      "application/vnd.jupyter.widget-view+json": {
       "model_id": "a7b8fae780a547ab8fa2c61bda99c18e",
       "version_major": 2,
       "version_minor": 0
      },
      "text/plain": [
       "HBox(children=(FloatProgress(value=0.0, description='Downloading', max=433.0, style=ProgressStyle(description_…"
      ]
     },
     "metadata": {},
     "output_type": "display_data"
    },
    {
     "name": "stdout",
     "output_type": "stream",
     "text": [
      "\n"
     ]
    },
    {
     "data": {
      "application/vnd.jupyter.widget-view+json": {
       "model_id": "7a6fc276ebbf489892d69eedfb3aac7b",
       "version_major": 2,
       "version_minor": 0
      },
      "text/plain": [
       "HBox(children=(FloatProgress(value=0.0, description='Downloading', max=440473133.0, style=ProgressStyle(descri…"
      ]
     },
     "metadata": {},
     "output_type": "display_data"
    },
    {
     "name": "stdout",
     "output_type": "stream",
     "text": [
      "\n"
     ]
    },
    {
     "data": {
      "application/vnd.jupyter.widget-view+json": {
       "model_id": "1911d83eda0b4220a96f4fd30cde2dab",
       "version_major": 2,
       "version_minor": 0
      },
      "text/plain": [
       "HBox(children=(FloatProgress(value=0.0, description='Downloading', max=1042301.0, style=ProgressStyle(descript…"
      ]
     },
     "metadata": {},
     "output_type": "display_data"
    },
    {
     "name": "stdout",
     "output_type": "stream",
     "text": [
      "\n"
     ]
    },
    {
     "data": {
      "application/vnd.jupyter.widget-view+json": {
       "model_id": "74b6016c65dc4b9394947cb3351d6a26",
       "version_major": 2,
       "version_minor": 0
      },
      "text/plain": [
       "HBox(children=(FloatProgress(value=0.0, description='Downloading', max=456318.0, style=ProgressStyle(descripti…"
      ]
     },
     "metadata": {},
     "output_type": "display_data"
    },
    {
     "name": "stdout",
     "output_type": "stream",
     "text": [
      "\n"
     ]
    },
    {
     "data": {
      "application/vnd.jupyter.widget-view+json": {
       "model_id": "4599a801012c480a857241d9ead7d839",
       "version_major": 2,
       "version_minor": 0
      },
      "text/plain": [
       "HBox(children=(FloatProgress(value=0.0, description='Downloading', max=665.0, style=ProgressStyle(description_…"
      ]
     },
     "metadata": {},
     "output_type": "display_data"
    },
    {
     "name": "stdout",
     "output_type": "stream",
     "text": [
      "\n"
     ]
    },
    {
     "data": {
      "application/vnd.jupyter.widget-view+json": {
       "model_id": "9772a768d77a413f81b31c5971da536f",
       "version_major": 2,
       "version_minor": 0
      },
      "text/plain": [
       "HBox(children=(FloatProgress(value=0.0, description='Downloading', max=548118077.0, style=ProgressStyle(descri…"
      ]
     },
     "metadata": {},
     "output_type": "display_data"
    },
    {
     "name": "stdout",
     "output_type": "stream",
     "text": [
      "\n"
     ]
    }
   ],
   "source": [
    "# Let's encode some text in a sequence of hidden-states using each model:\n",
    "for model_class, tokenizer_class, pretrained_weights in MODELS:\n",
    "    # Load pretrained model/tokenizer\n",
    "    tokenizer = tokenizer_class.from_pretrained(pretrained_weights)\n",
    "    model = model_class.from_pretrained(pretrained_weights)\n",
    "\n",
    "    # Encode text\n",
    "    input_ids = torch.tensor([tokenizer.encode(\"Here is some text to encode\", add_special_tokens=True)])  # Add special tokens takes care of adding [CLS], [SEP], <s>... tokens in the right way for each model.\n",
    "    with torch.no_grad():\n",
    "        last_hidden_states = model(input_ids)[0]  "
   ]
  },
  {
   "cell_type": "code",
   "execution_count": 7,
   "metadata": {},
   "outputs": [
    {
     "data": {
      "text/plain": [
       "tensor([[ 4342,   318,   617,  2420,   284, 37773]])"
      ]
     },
     "execution_count": 7,
     "metadata": {},
     "output_type": "execute_result"
    }
   ],
   "source": [
    "input_ids"
   ]
  },
  {
   "cell_type": "code",
   "execution_count": 9,
   "metadata": {},
   "outputs": [
    {
     "data": {
      "text/plain": [
       "torch.Size([1, 6, 768])"
      ]
     },
     "execution_count": 9,
     "metadata": {},
     "output_type": "execute_result"
    }
   ],
   "source": [
    "last_hidden_states.shape"
   ]
  },
  {
   "cell_type": "code",
   "execution_count": 11,
   "metadata": {},
   "outputs": [],
   "source": [
    "from transformers import BertModel, BertForPreTraining"
   ]
  },
  {
   "cell_type": "code",
   "execution_count": 12,
   "metadata": {},
   "outputs": [],
   "source": [
    "BERT_MODEL_CLASSES = [BertModel, BertForPreTraining]"
   ]
  },
  {
   "cell_type": "code",
   "execution_count": 13,
   "metadata": {},
   "outputs": [],
   "source": [
    "pretrained_weights = 'bert-base-uncased'\n",
    "tokenizer = BertTokenizer.from_pretrained(pretrained_weights)\n",
    "for model_class in BERT_MODEL_CLASSES:\n",
    "    # Load pretrained model/tokenizer\n",
    "    model = model_class.from_pretrained(pretrained_weights)\n",
    "\n",
    "    # Models can return full list of hidden-states & attentions weights at each layer\n",
    "    model = model_class.from_pretrained(pretrained_weights,\n",
    "                                        output_hidden_states=True,\n",
    "                                        output_attentions=True)\n",
    "    input_ids = torch.tensor([tokenizer.encode(\"Let's see all hidden-states and attentions on this text\")])\n",
    "    all_hidden_states, all_attentions = model(input_ids)[-2:]\n",
    "\n",
    "    # Models are compatible with Torchscript\n",
    "    model = model_class.from_pretrained(pretrained_weights, torchscript=True)\n",
    "    traced_model = torch.jit.trace(model, (input_ids,))"
   ]
  },
  {
   "cell_type": "code",
   "execution_count": 14,
   "metadata": {
    "collapsed": true
   },
   "outputs": [
    {
     "data": {
      "text/plain": [
       "BertForPreTraining(\n",
       "  original_name=BertForPreTraining\n",
       "  (bert): BertModel(\n",
       "    original_name=BertModel\n",
       "    (embeddings): BertEmbeddings(\n",
       "      original_name=BertEmbeddings\n",
       "      (word_embeddings): Embedding(original_name=Embedding)\n",
       "      (position_embeddings): Embedding(original_name=Embedding)\n",
       "      (token_type_embeddings): Embedding(original_name=Embedding)\n",
       "      (LayerNorm): LayerNorm(original_name=LayerNorm)\n",
       "      (dropout): Dropout(original_name=Dropout)\n",
       "    )\n",
       "    (encoder): BertEncoder(\n",
       "      original_name=BertEncoder\n",
       "      (layer): ModuleList(\n",
       "        original_name=ModuleList\n",
       "        (0): BertLayer(\n",
       "          original_name=BertLayer\n",
       "          (attention): BertAttention(\n",
       "            original_name=BertAttention\n",
       "            (self): BertSelfAttention(\n",
       "              original_name=BertSelfAttention\n",
       "              (query): Linear(original_name=Linear)\n",
       "              (key): Linear(original_name=Linear)\n",
       "              (value): Linear(original_name=Linear)\n",
       "              (dropout): Dropout(original_name=Dropout)\n",
       "            )\n",
       "            (output): BertSelfOutput(\n",
       "              original_name=BertSelfOutput\n",
       "              (dense): Linear(original_name=Linear)\n",
       "              (LayerNorm): LayerNorm(original_name=LayerNorm)\n",
       "              (dropout): Dropout(original_name=Dropout)\n",
       "            )\n",
       "          )\n",
       "          (intermediate): BertIntermediate(\n",
       "            original_name=BertIntermediate\n",
       "            (dense): Linear(original_name=Linear)\n",
       "          )\n",
       "          (output): BertOutput(\n",
       "            original_name=BertOutput\n",
       "            (dense): Linear(original_name=Linear)\n",
       "            (LayerNorm): LayerNorm(original_name=LayerNorm)\n",
       "            (dropout): Dropout(original_name=Dropout)\n",
       "          )\n",
       "        )\n",
       "        (1): BertLayer(\n",
       "          original_name=BertLayer\n",
       "          (attention): BertAttention(\n",
       "            original_name=BertAttention\n",
       "            (self): BertSelfAttention(\n",
       "              original_name=BertSelfAttention\n",
       "              (query): Linear(original_name=Linear)\n",
       "              (key): Linear(original_name=Linear)\n",
       "              (value): Linear(original_name=Linear)\n",
       "              (dropout): Dropout(original_name=Dropout)\n",
       "            )\n",
       "            (output): BertSelfOutput(\n",
       "              original_name=BertSelfOutput\n",
       "              (dense): Linear(original_name=Linear)\n",
       "              (LayerNorm): LayerNorm(original_name=LayerNorm)\n",
       "              (dropout): Dropout(original_name=Dropout)\n",
       "            )\n",
       "          )\n",
       "          (intermediate): BertIntermediate(\n",
       "            original_name=BertIntermediate\n",
       "            (dense): Linear(original_name=Linear)\n",
       "          )\n",
       "          (output): BertOutput(\n",
       "            original_name=BertOutput\n",
       "            (dense): Linear(original_name=Linear)\n",
       "            (LayerNorm): LayerNorm(original_name=LayerNorm)\n",
       "            (dropout): Dropout(original_name=Dropout)\n",
       "          )\n",
       "        )\n",
       "        (2): BertLayer(\n",
       "          original_name=BertLayer\n",
       "          (attention): BertAttention(\n",
       "            original_name=BertAttention\n",
       "            (self): BertSelfAttention(\n",
       "              original_name=BertSelfAttention\n",
       "              (query): Linear(original_name=Linear)\n",
       "              (key): Linear(original_name=Linear)\n",
       "              (value): Linear(original_name=Linear)\n",
       "              (dropout): Dropout(original_name=Dropout)\n",
       "            )\n",
       "            (output): BertSelfOutput(\n",
       "              original_name=BertSelfOutput\n",
       "              (dense): Linear(original_name=Linear)\n",
       "              (LayerNorm): LayerNorm(original_name=LayerNorm)\n",
       "              (dropout): Dropout(original_name=Dropout)\n",
       "            )\n",
       "          )\n",
       "          (intermediate): BertIntermediate(\n",
       "            original_name=BertIntermediate\n",
       "            (dense): Linear(original_name=Linear)\n",
       "          )\n",
       "          (output): BertOutput(\n",
       "            original_name=BertOutput\n",
       "            (dense): Linear(original_name=Linear)\n",
       "            (LayerNorm): LayerNorm(original_name=LayerNorm)\n",
       "            (dropout): Dropout(original_name=Dropout)\n",
       "          )\n",
       "        )\n",
       "        (3): BertLayer(\n",
       "          original_name=BertLayer\n",
       "          (attention): BertAttention(\n",
       "            original_name=BertAttention\n",
       "            (self): BertSelfAttention(\n",
       "              original_name=BertSelfAttention\n",
       "              (query): Linear(original_name=Linear)\n",
       "              (key): Linear(original_name=Linear)\n",
       "              (value): Linear(original_name=Linear)\n",
       "              (dropout): Dropout(original_name=Dropout)\n",
       "            )\n",
       "            (output): BertSelfOutput(\n",
       "              original_name=BertSelfOutput\n",
       "              (dense): Linear(original_name=Linear)\n",
       "              (LayerNorm): LayerNorm(original_name=LayerNorm)\n",
       "              (dropout): Dropout(original_name=Dropout)\n",
       "            )\n",
       "          )\n",
       "          (intermediate): BertIntermediate(\n",
       "            original_name=BertIntermediate\n",
       "            (dense): Linear(original_name=Linear)\n",
       "          )\n",
       "          (output): BertOutput(\n",
       "            original_name=BertOutput\n",
       "            (dense): Linear(original_name=Linear)\n",
       "            (LayerNorm): LayerNorm(original_name=LayerNorm)\n",
       "            (dropout): Dropout(original_name=Dropout)\n",
       "          )\n",
       "        )\n",
       "        (4): BertLayer(\n",
       "          original_name=BertLayer\n",
       "          (attention): BertAttention(\n",
       "            original_name=BertAttention\n",
       "            (self): BertSelfAttention(\n",
       "              original_name=BertSelfAttention\n",
       "              (query): Linear(original_name=Linear)\n",
       "              (key): Linear(original_name=Linear)\n",
       "              (value): Linear(original_name=Linear)\n",
       "              (dropout): Dropout(original_name=Dropout)\n",
       "            )\n",
       "            (output): BertSelfOutput(\n",
       "              original_name=BertSelfOutput\n",
       "              (dense): Linear(original_name=Linear)\n",
       "              (LayerNorm): LayerNorm(original_name=LayerNorm)\n",
       "              (dropout): Dropout(original_name=Dropout)\n",
       "            )\n",
       "          )\n",
       "          (intermediate): BertIntermediate(\n",
       "            original_name=BertIntermediate\n",
       "            (dense): Linear(original_name=Linear)\n",
       "          )\n",
       "          (output): BertOutput(\n",
       "            original_name=BertOutput\n",
       "            (dense): Linear(original_name=Linear)\n",
       "            (LayerNorm): LayerNorm(original_name=LayerNorm)\n",
       "            (dropout): Dropout(original_name=Dropout)\n",
       "          )\n",
       "        )\n",
       "        (5): BertLayer(\n",
       "          original_name=BertLayer\n",
       "          (attention): BertAttention(\n",
       "            original_name=BertAttention\n",
       "            (self): BertSelfAttention(\n",
       "              original_name=BertSelfAttention\n",
       "              (query): Linear(original_name=Linear)\n",
       "              (key): Linear(original_name=Linear)\n",
       "              (value): Linear(original_name=Linear)\n",
       "              (dropout): Dropout(original_name=Dropout)\n",
       "            )\n",
       "            (output): BertSelfOutput(\n",
       "              original_name=BertSelfOutput\n",
       "              (dense): Linear(original_name=Linear)\n",
       "              (LayerNorm): LayerNorm(original_name=LayerNorm)\n",
       "              (dropout): Dropout(original_name=Dropout)\n",
       "            )\n",
       "          )\n",
       "          (intermediate): BertIntermediate(\n",
       "            original_name=BertIntermediate\n",
       "            (dense): Linear(original_name=Linear)\n",
       "          )\n",
       "          (output): BertOutput(\n",
       "            original_name=BertOutput\n",
       "            (dense): Linear(original_name=Linear)\n",
       "            (LayerNorm): LayerNorm(original_name=LayerNorm)\n",
       "            (dropout): Dropout(original_name=Dropout)\n",
       "          )\n",
       "        )\n",
       "        (6): BertLayer(\n",
       "          original_name=BertLayer\n",
       "          (attention): BertAttention(\n",
       "            original_name=BertAttention\n",
       "            (self): BertSelfAttention(\n",
       "              original_name=BertSelfAttention\n",
       "              (query): Linear(original_name=Linear)\n",
       "              (key): Linear(original_name=Linear)\n",
       "              (value): Linear(original_name=Linear)\n",
       "              (dropout): Dropout(original_name=Dropout)\n",
       "            )\n",
       "            (output): BertSelfOutput(\n",
       "              original_name=BertSelfOutput\n",
       "              (dense): Linear(original_name=Linear)\n",
       "              (LayerNorm): LayerNorm(original_name=LayerNorm)\n",
       "              (dropout): Dropout(original_name=Dropout)\n",
       "            )\n",
       "          )\n",
       "          (intermediate): BertIntermediate(\n",
       "            original_name=BertIntermediate\n",
       "            (dense): Linear(original_name=Linear)\n",
       "          )\n",
       "          (output): BertOutput(\n",
       "            original_name=BertOutput\n",
       "            (dense): Linear(original_name=Linear)\n",
       "            (LayerNorm): LayerNorm(original_name=LayerNorm)\n",
       "            (dropout): Dropout(original_name=Dropout)\n",
       "          )\n",
       "        )\n",
       "        (7): BertLayer(\n",
       "          original_name=BertLayer\n",
       "          (attention): BertAttention(\n",
       "            original_name=BertAttention\n",
       "            (self): BertSelfAttention(\n",
       "              original_name=BertSelfAttention\n",
       "              (query): Linear(original_name=Linear)\n",
       "              (key): Linear(original_name=Linear)\n",
       "              (value): Linear(original_name=Linear)\n",
       "              (dropout): Dropout(original_name=Dropout)\n",
       "            )\n",
       "            (output): BertSelfOutput(\n",
       "              original_name=BertSelfOutput\n",
       "              (dense): Linear(original_name=Linear)\n",
       "              (LayerNorm): LayerNorm(original_name=LayerNorm)\n",
       "              (dropout): Dropout(original_name=Dropout)\n",
       "            )\n",
       "          )\n",
       "          (intermediate): BertIntermediate(\n",
       "            original_name=BertIntermediate\n",
       "            (dense): Linear(original_name=Linear)\n",
       "          )\n",
       "          (output): BertOutput(\n",
       "            original_name=BertOutput\n",
       "            (dense): Linear(original_name=Linear)\n",
       "            (LayerNorm): LayerNorm(original_name=LayerNorm)\n",
       "            (dropout): Dropout(original_name=Dropout)\n",
       "          )\n",
       "        )\n",
       "        (8): BertLayer(\n",
       "          original_name=BertLayer\n",
       "          (attention): BertAttention(\n",
       "            original_name=BertAttention\n",
       "            (self): BertSelfAttention(\n",
       "              original_name=BertSelfAttention\n",
       "              (query): Linear(original_name=Linear)\n",
       "              (key): Linear(original_name=Linear)\n",
       "              (value): Linear(original_name=Linear)\n",
       "              (dropout): Dropout(original_name=Dropout)\n",
       "            )\n",
       "            (output): BertSelfOutput(\n",
       "              original_name=BertSelfOutput\n",
       "              (dense): Linear(original_name=Linear)\n",
       "              (LayerNorm): LayerNorm(original_name=LayerNorm)\n",
       "              (dropout): Dropout(original_name=Dropout)\n",
       "            )\n",
       "          )\n",
       "          (intermediate): BertIntermediate(\n",
       "            original_name=BertIntermediate\n",
       "            (dense): Linear(original_name=Linear)\n",
       "          )\n",
       "          (output): BertOutput(\n",
       "            original_name=BertOutput\n",
       "            (dense): Linear(original_name=Linear)\n",
       "            (LayerNorm): LayerNorm(original_name=LayerNorm)\n",
       "            (dropout): Dropout(original_name=Dropout)\n",
       "          )\n",
       "        )\n",
       "        (9): BertLayer(\n",
       "          original_name=BertLayer\n",
       "          (attention): BertAttention(\n",
       "            original_name=BertAttention\n",
       "            (self): BertSelfAttention(\n",
       "              original_name=BertSelfAttention\n",
       "              (query): Linear(original_name=Linear)\n",
       "              (key): Linear(original_name=Linear)\n",
       "              (value): Linear(original_name=Linear)\n",
       "              (dropout): Dropout(original_name=Dropout)\n",
       "            )\n",
       "            (output): BertSelfOutput(\n",
       "              original_name=BertSelfOutput\n",
       "              (dense): Linear(original_name=Linear)\n",
       "              (LayerNorm): LayerNorm(original_name=LayerNorm)\n",
       "              (dropout): Dropout(original_name=Dropout)\n",
       "            )\n",
       "          )\n",
       "          (intermediate): BertIntermediate(\n",
       "            original_name=BertIntermediate\n",
       "            (dense): Linear(original_name=Linear)\n",
       "          )\n",
       "          (output): BertOutput(\n",
       "            original_name=BertOutput\n",
       "            (dense): Linear(original_name=Linear)\n",
       "            (LayerNorm): LayerNorm(original_name=LayerNorm)\n",
       "            (dropout): Dropout(original_name=Dropout)\n",
       "          )\n",
       "        )\n",
       "        (10): BertLayer(\n",
       "          original_name=BertLayer\n",
       "          (attention): BertAttention(\n",
       "            original_name=BertAttention\n",
       "            (self): BertSelfAttention(\n",
       "              original_name=BertSelfAttention\n",
       "              (query): Linear(original_name=Linear)\n",
       "              (key): Linear(original_name=Linear)\n",
       "              (value): Linear(original_name=Linear)\n",
       "              (dropout): Dropout(original_name=Dropout)\n",
       "            )\n",
       "            (output): BertSelfOutput(\n",
       "              original_name=BertSelfOutput\n",
       "              (dense): Linear(original_name=Linear)\n",
       "              (LayerNorm): LayerNorm(original_name=LayerNorm)\n",
       "              (dropout): Dropout(original_name=Dropout)\n",
       "            )\n",
       "          )\n",
       "          (intermediate): BertIntermediate(\n",
       "            original_name=BertIntermediate\n",
       "            (dense): Linear(original_name=Linear)\n",
       "          )\n",
       "          (output): BertOutput(\n",
       "            original_name=BertOutput\n",
       "            (dense): Linear(original_name=Linear)\n",
       "            (LayerNorm): LayerNorm(original_name=LayerNorm)\n",
       "            (dropout): Dropout(original_name=Dropout)\n",
       "          )\n",
       "        )\n",
       "        (11): BertLayer(\n",
       "          original_name=BertLayer\n",
       "          (attention): BertAttention(\n",
       "            original_name=BertAttention\n",
       "            (self): BertSelfAttention(\n",
       "              original_name=BertSelfAttention\n",
       "              (query): Linear(original_name=Linear)\n",
       "              (key): Linear(original_name=Linear)\n",
       "              (value): Linear(original_name=Linear)\n",
       "              (dropout): Dropout(original_name=Dropout)\n",
       "            )\n",
       "            (output): BertSelfOutput(\n",
       "              original_name=BertSelfOutput\n",
       "              (dense): Linear(original_name=Linear)\n",
       "              (LayerNorm): LayerNorm(original_name=LayerNorm)\n",
       "              (dropout): Dropout(original_name=Dropout)\n",
       "            )\n",
       "          )\n",
       "          (intermediate): BertIntermediate(\n",
       "            original_name=BertIntermediate\n",
       "            (dense): Linear(original_name=Linear)\n",
       "          )\n",
       "          (output): BertOutput(\n",
       "            original_name=BertOutput\n",
       "            (dense): Linear(original_name=Linear)\n",
       "            (LayerNorm): LayerNorm(original_name=LayerNorm)\n",
       "            (dropout): Dropout(original_name=Dropout)\n",
       "          )\n",
       "        )\n",
       "      )\n",
       "    )\n",
       "    (pooler): BertPooler(\n",
       "      original_name=BertPooler\n",
       "      (dense): Linear(original_name=Linear)\n",
       "      (activation): Tanh(original_name=Tanh)\n",
       "    )\n",
       "  )\n",
       "  (cls): BertPreTrainingHeads(\n",
       "    original_name=BertPreTrainingHeads\n",
       "    (predictions): BertLMPredictionHead(\n",
       "      original_name=BertLMPredictionHead\n",
       "      (transform): BertPredictionHeadTransform(\n",
       "        original_name=BertPredictionHeadTransform\n",
       "        (dense): Linear(original_name=Linear)\n",
       "        (LayerNorm): LayerNorm(original_name=LayerNorm)\n",
       "      )\n",
       "      (decoder): Linear(original_name=Linear)\n",
       "    )\n",
       "    (seq_relationship): Linear(original_name=Linear)\n",
       "  )\n",
       ")"
      ]
     },
     "execution_count": 14,
     "metadata": {},
     "output_type": "execute_result"
    }
   ],
   "source": [
    "traced_model"
   ]
  },
  {
   "cell_type": "code",
   "execution_count": null,
   "metadata": {},
   "outputs": [],
   "source": [
    "#https://towardsdatascience.com/text-classification-with-hugging-face-transformers-in-tensorflow-2-without-tears-ee50e4f3e7ed"
   ]
  }
 ],
 "metadata": {
  "kernelspec": {
   "display_name": "Python 3",
   "language": "python",
   "name": "python3"
  },
  "language_info": {
   "codemirror_mode": {
    "name": "ipython",
    "version": 3
   },
   "file_extension": ".py",
   "mimetype": "text/x-python",
   "name": "python",
   "nbconvert_exporter": "python",
   "pygments_lexer": "ipython3",
   "version": "3.7.5"
  }
 },
 "nbformat": 4,
 "nbformat_minor": 4
}
