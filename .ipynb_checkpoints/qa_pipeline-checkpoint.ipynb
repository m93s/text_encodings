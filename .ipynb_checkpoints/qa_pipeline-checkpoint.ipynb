{
 "cells": [
  {
   "cell_type": "code",
   "execution_count": 1,
   "metadata": {},
   "outputs": [],
   "source": [
    "from transformers import pipeline"
   ]
  },
  {
   "cell_type": "code",
   "execution_count": 2,
   "metadata": {},
   "outputs": [
    {
     "data": {
      "application/vnd.jupyter.widget-view+json": {
       "model_id": "ded5691c10a945e79b7c19316eed8268",
       "version_major": 2,
       "version_minor": 0
      },
      "text/plain": [
       "HBox(children=(FloatProgress(value=0.0, description='Downloading', max=230.0, style=ProgressStyle(description_…"
      ]
     },
     "metadata": {},
     "output_type": "display_data"
    },
    {
     "name": "stdout",
     "output_type": "stream",
     "text": [
      "\n"
     ]
    }
   ],
   "source": [
    "nlp_qa = pipeline('question-answering')"
   ]
  },
  {
   "cell_type": "code",
   "execution_count": 3,
   "metadata": {},
   "outputs": [],
   "source": [
    "import pandas as pd"
   ]
  },
  {
   "cell_type": "code",
   "execution_count": 4,
   "metadata": {},
   "outputs": [],
   "source": [
    "yrkkh = pd.read_excel(\"yrkkh_2019_2020.xlsx\")"
   ]
  },
  {
   "cell_type": "code",
   "execution_count": 5,
   "metadata": {
    "scrolled": true
   },
   "outputs": [
    {
     "data": {
      "text/plain": [
       "'   The Episode starts with Dadi saying I m not saying this for myself  but for everyone  a baby boy will help ancestors get salvation. Naira cries and goes out. She removes Santa costume. Kartik thinks where did Santa go. Dadi cries. Naira thinks of Dadi s words. Kartik asks where did Santa go  Dadi  Kirti takes Kartik with her. The man says Mata ji took much time to send you for tests  you will know whether the coming child is a son or daughter. Naira cries. The man rushes to set everything and asks her to wait. Naira recalls Dadi s words. She gets in the ambulance and drives off. The man asks her to stop. Kartik says Santa will come  I will go and call Naira  its time for her lunch. Servant gets Santa. Kids ask how did new Santa come. Kartik asks Santa how did he come now  when  his relative was ill. Santa says no  a lean lady has sent me away  I got scolded by my boss too. Kartik says Naira . and recalls.   Naira says its against law and humanity  punish them. The man says no  people approach us for tests. Inspector asks why do you do this if its wrong. Naira says people who don t want a girl get this test done  they abort the girl in womb. Inspector sends the men to lockup. She thanks Naira for helping police. She asks how did they reach you by taking mobile van  is there anyone in your family  tell me. Naira cries and thinks how will will Dadi do wrong  how will will we save her  one day . Kartik says Naira isn t here. Surekha sends kids and guests for lunch. Manish asks Kartik to ask staff. Devyaani says she would be hiding. Kartik says I will scold her  she was eating cakes so much. Dadi thinks how shall I tell him about Naira.    Naira comes with police. They ask her what happened. Inspector says she has helped us expose a big racket  we are thankful to her  she fell sick  I came here to drop her. Kartik asks are you fine  I warned you against eating junk food. Inspector thanks Naira and asks her to take care. Kartik says you came as Santa  had food and then did a brave thing. Devyaani asks what did you do  tell us. Naira sees Dadi and cries. Naira says I can t stay in this house now. He asks what s this new joke. She says I m serious. He asks why  we will celebrate again in new years party. She says its because of Dadi. Kartik asks what happened. Naira asks him to ask Dadi. Dadi says I wanted a baby boy  so I was trying to know if the child is a boy or girl. Kartik says no  what did you do to find out  tell me. Manish says she was just wanting to have a baby boy  I also want the same. He asks Naira why is she making it a big issue  how can a wish be wrong. Naira says instead of accepting the happening  interfering in it is a problem.    Surekha cries and says sorry  Dadi did the same with me  she did many puja to get a grandson  I had spent nine months in tension  I had a daughter  I cried throughout my pregnancy  it became a punishment for me. Manish asks her to stop it  Dadi didn t hurt her  everyone does puja for peace of mind  Dadi didn t do wrong. Kartik says she did wrong to pressurize a pregnant woman. Manish says I believe there is nothing wrong  a daughter will be given same love and rights  we will be more glad if we get a son. Kartik says you have given me a big shock. Kirti says you mean Mansi and I didn t get deserved love and place. Kartik asks what did Lav  Kush and I do that Kirti and Mansi can t do. Manish says keeping wish to get a son is right. Naira says there s nothing wrong in getting a boy  but its wrong to get home a s x determination van and getting tests done without my knowledge. Everyone gets shocked. Manish looks at Dadi. Naira tells everything.    Manish asks is this true. Dadi cries. Kartik recalls Dadi s words. Naira says what if something had happened to me or baby due to this test or stress. She cries and goes. Kartik says I don t have anything left to tell Dadi. Bhabhimaa says we will not forgive you if we want  now we are leaving decision on them. Devyaani says it won t be good if anything happens to Naira and baby. They leave. Manish asks what did you do. Dadi says I wanted to get tests done for my satisfaction  could I let anything happen to Naira and her baby. He asks how will you prove this. She cries. Kartik hugs Naira. She says I was very scared  why did Dadi do this  people say children are form of Lord  but people still discriminate between boy and girl  children are surprises  we are expecting a baby in this condition  shouldn t we stay happy  I m very hurt today.   Precap  Kartik says I want your sign  its mutual agreement for baby s safety  you won t have any right on our baby. Dadi gets shocked. Naira looks on.   '"
      ]
     },
     "execution_count": 5,
     "metadata": {},
     "output_type": "execute_result"
    }
   ],
   "source": [
    "yrkkh.loc[0,'Summary']"
   ]
  },
  {
   "cell_type": "code",
   "execution_count": 6,
   "metadata": {
    "scrolled": true
   },
   "outputs": [
    {
     "data": {
      "text/plain": [
       "'   The Episode starts with Kartik asking the man are the papers ready. The man gives him papers. Kartik asks Manish and Dadi to sign  its a mutual agreement for baby s safety. They get shocked. Kartik says it states that you can t touch our baby  you can t play or feed baby  you can just see the baby  only when Naira and I are around  when baby grows up  you can t talk to baby  so that your thinking doesn t affect badly  if you try to break this agreement  Naira and I will take our baby and leave. Dadi cries and says you documented all this and want me to sign. Naira comes and looks on. Kartik says I m really scared for my baby and Naira  you may plan something else. He asks them to sign it. Manish signs and asks Dadi to sign. She cries and signs it.    Naira cries seeing  this and goes. Kirti messages Naira to apologizes and writes  nothing will happen to your baby  we all are with you. She calls Naksh. She talks to staff and says we will decide when Vaishali comes. Vaishali calls her and says I m in rush  I had requested Aditya  he will be there  discuss designs with him. Kirti says I will mail designs  no need to send anyone. Naira says I m trying to be fine. Bhabhimaa asks what happened. Naira says Kartik is upset with Dadi  but he is doing wrong to end relations. Bhabhimaa says you explain him  he is fighting for right and wrong  your inlaws are lucky to get you  your mum was also such  do what you feel right for your baby. Naira agrees and ends call. She takes Akshara s book. Naira hugs Kartik and thinks this won t be good  we have to make things fine.   Its morning  Dadi sees Naira eating salad and asks Surekha to advice Naira. She goes and gives olive oil to Naira. She advices Naira. She asks Surekha to go and throw laddoos in bin  if anyone eats it  anything bad can happen. Naira cries. Kartik asks her to have juice. Devyaani says Naira will be in tension. Kirti says dad and Dadi didn t do right. She gets Aditya s call and gets shocked. She disconnects. He messages  please call me  its office work. Kirti coughs. Naira coughs. Manish gives her a glass of water and apologizes. Kirti comes. Naira says explain Kartik that this isn t needed. Kirti goes to Kartik. She says Suwarna called me  she wanted me to talk to you. Kartik says you don t take their side  this is about emotions. Kirti says its not dad and Dadi s mistake  its not easy to change such thinking. He says they can give it a try. She says you can t make anyone away from life  you can hurt someone if you are hurt.    He says my intentions weren t such. She says even their intentions weren t bad  they made a mistake  you don t do this mistake. He asks what shall I do. She says change their thinking by your conviction and logic. He says they won t understand. She tries to explain. She says dad is not wrong  he didn t know about that van  you could have explained him  they have always forgiven us  dad never punished you  you are not able to forgive him for one thing  its wrong to behave like this  you can t form or break relations by documents  its up to you now. She goes. Naira looks on. Lav and Kush play. The laptop falls. They worry. Kartik comes and asks what happened. They say sorry  laptop fell down  don t scold us. He asks them to stop crying and go to study. They go.    Naira asks did you forgive them. He says yes. She says mistakes can be forgiven  we need to forgive elders  how can we manage a new relation with our baby  just start practicing forgiveness. Dadi gets pandit s call. He says you didn t tell me about baby girl or boy. Dadi sees Kartik and Naira and disconnects the call. Kartik gets the laddoos jar and asks Naira to eat it. Dadi cries. Naira says I spoke to doctor  I will eat things prepared by you  Kartik and whatever I like. Kartik asks Dadi to make more ghee laddoos. Naira asks Dadi not to cry. She says you did what you have seen since childhood  its okay  many people want boy or girl  even you are right  you shouldn t impose thinking on pregnant women  from now onwards  make laddoos for my health  not to make a girl a boy.   Precap  Dadi says forgive me Naira and hugs her. Everyone hugs. Naira is seen dead ..   '"
      ]
     },
     "execution_count": 6,
     "metadata": {},
     "output_type": "execute_result"
    }
   ],
   "source": [
    "yrkkh.loc[1,'Summary']"
   ]
  },
  {
   "cell_type": "code",
   "execution_count": 8,
   "metadata": {},
   "outputs": [
    {
     "data": {
      "text/plain": [
       "{'score': 0.8263128666326196, 'start': 6, 'end': 11, 'answer': 'cries'}"
      ]
     },
     "execution_count": 8,
     "metadata": {},
     "output_type": "execute_result"
    }
   ],
   "source": [
    "nlp_qa(context = \"Naira cries and goes out. She removes Santa costume. \",question = \"How does Naira feel?\")"
   ]
  },
  {
   "cell_type": "code",
   "execution_count": 14,
   "metadata": {},
   "outputs": [
    {
     "data": {
      "text/plain": [
       "{'score': 0.995760130067449, 'start': 12, 'end': 17, 'answer': 'Rahul'}"
      ]
     },
     "execution_count": 14,
     "metadata": {},
     "output_type": "execute_result"
    }
   ],
   "source": [
    "nlp_qa(context = \"Kaushik and Rahul had a fight. Kaushik threw things at him\",question = \"Who did Kaushik fight with\")"
   ]
  },
  {
   "cell_type": "code",
   "execution_count": 15,
   "metadata": {},
   "outputs": [
    {
     "data": {
      "text/plain": [
       "{'score': 0.9368492403716502, 'start': 45, 'end': 51, 'answer': 'things'}"
      ]
     },
     "execution_count": 15,
     "metadata": {},
     "output_type": "execute_result"
    }
   ],
   "source": [
    "nlp_qa(context = \"Kaushik and Rahul had a fight. Kaushik threw things at him\",\n",
    "       question = \"What did Kaushik throw?\")"
   ]
  },
  {
   "cell_type": "code",
   "execution_count": 16,
   "metadata": {},
   "outputs": [
    {
     "data": {
      "text/plain": [
       "{'score': 0.9947865390858937, 'start': 12, 'end': 17, 'answer': 'Rahul'}"
      ]
     },
     "execution_count": 16,
     "metadata": {},
     "output_type": "execute_result"
    }
   ],
   "source": [
    "nlp_qa(context = \"Kaushik and Rahul had a fight. Kaushik threw things at him\",\n",
    "       question = \"Who did Kaushik throw things at?\")"
   ]
  },
  {
   "cell_type": "code",
   "execution_count": 13,
   "metadata": {},
   "outputs": [
    {
     "data": {
      "text/plain": [
       "{'score': 0.9143858122892645, 'start': 10, 'end': 15, 'answer': 'angry'}"
      ]
     },
     "execution_count": 13,
     "metadata": {},
     "output_type": "execute_result"
    }
   ],
   "source": [
    "nlp_qa(context = \"Rahul was angry with the team\",question = \"How as Rahul feeling?\")"
   ]
  },
  {
   "cell_type": "code",
   "execution_count": 9,
   "metadata": {},
   "outputs": [
    {
     "data": {
      "text/plain": [
       "{'score': 0.15310690457563148,\n",
       " 'start': 6,\n",
       " 'end': 52,\n",
       " 'answer': 'cries and goes out. She removes Santa costume.'}"
      ]
     },
     "execution_count": 9,
     "metadata": {},
     "output_type": "execute_result"
    }
   ],
   "source": [
    "nlp_qa(context = \"Naira cries and goes out. She removes Santa costume. \",question = \"What does Naira do?\")"
   ]
  },
  {
   "cell_type": "code",
   "execution_count": 10,
   "metadata": {},
   "outputs": [
    {
     "data": {
      "text/plain": [
       "{'score': 0.6856550541222006,\n",
       " 'start': 26,\n",
       " 'end': 52,\n",
       " 'answer': 'She removes Santa costume.'}"
      ]
     },
     "execution_count": 10,
     "metadata": {},
     "output_type": "execute_result"
    }
   ],
   "source": [
    "nlp_qa(context = \"Naira cries and goes out. She removes Santa costume. \",question = \"What does Naira?\")"
   ]
  },
  {
   "cell_type": "code",
   "execution_count": 11,
   "metadata": {},
   "outputs": [
    {
     "data": {
      "text/plain": [
       "{'score': 0.4618052359806768,\n",
       " 'start': 62,\n",
       " 'end': 75,\n",
       " 'answer': 'advice Naira.'}"
      ]
     },
     "execution_count": 11,
     "metadata": {},
     "output_type": "execute_result"
    }
   ],
   "source": [
    "nlp_qa(context = \"Its morning  Dadi sees Naira eating salad and asks Surekha to advice Naira. She goes and gives olive oil to Naira.\",\n",
    "question = \"What does Surekha do?\")"
   ]
  },
  {
   "cell_type": "code",
   "execution_count": 25,
   "metadata": {},
   "outputs": [
    {
     "data": {
      "text/plain": [
       "{'score': 0.40926828379125624,\n",
       " 'start': 1329,\n",
       " 'end': 1340,\n",
       " 'answer': 'Naira cries'}"
      ]
     },
     "execution_count": 25,
     "metadata": {},
     "output_type": "execute_result"
    }
   ],
   "source": [
    "nlp_qa(context = yrkkh.loc[0,'Summary'],question = \"How is Naira feeling?\")"
   ]
  },
  {
   "cell_type": "code",
   "execution_count": 26,
   "metadata": {},
   "outputs": [
    {
     "data": {
      "text/plain": [
       "{'score': 0.39655891569813306,\n",
       " 'start': 3237,\n",
       " 'end': 3247,\n",
       " 'answer': 'big shock.'}"
      ]
     },
     "execution_count": 26,
     "metadata": {},
     "output_type": "execute_result"
    }
   ],
   "source": [
    "nlp_qa(context = yrkkh.loc[0,'Summary'],question = \"How is Kartik feeling?\")"
   ]
  },
  {
   "cell_type": "code",
   "execution_count": 27,
   "metadata": {},
   "outputs": [
    {
     "data": {
      "text/plain": [
       "{'score': 0.25973091428708983,\n",
       " 'start': 3387,\n",
       " 'end': 3434,\n",
       " 'answer': 'Manish says keeping wish to get a son is right.'}"
      ]
     },
     "execution_count": 27,
     "metadata": {},
     "output_type": "execute_result"
    }
   ],
   "source": [
    "nlp_qa(context = yrkkh.loc[0,'Summary'],question = \"How is Manish feeling?\")"
   ]
  },
  {
   "cell_type": "code",
   "execution_count": 21,
   "metadata": {},
   "outputs": [
    {
     "data": {
      "text/plain": [
       "{'score': 0.09130063119803822, 'start': 3387, 'end': 3393, 'answer': 'Manish'}"
      ]
     },
     "execution_count": 21,
     "metadata": {},
     "output_type": "execute_result"
    }
   ],
   "source": [
    "nlp_qa(context = yrkkh.loc[0,'Summary'],question = \"Who is happy?\")"
   ]
  },
  {
   "cell_type": "code",
   "execution_count": 10,
   "metadata": {},
   "outputs": [
    {
     "data": {
      "text/plain": [
       "{'score': 0.18602872357597278,\n",
       " 'start': 2417,\n",
       " 'end': 2463,\n",
       " 'answer': 'says no what did you do to find out tell me.'}"
      ]
     },
     "execution_count": 10,
     "metadata": {},
     "output_type": "execute_result"
    }
   ],
   "source": [
    "nlp_qa(context = yrkkh.loc[0,'Summary'],question = \"What does the Kartik do?\")"
   ]
  },
  {
   "cell_type": "code",
   "execution_count": 11,
   "metadata": {},
   "outputs": [
    {
     "data": {
      "text/plain": [
       "{'score': 0.39910297120298566, 'start': 151, 'end': 160, 'answer': 'goes out.'}"
      ]
     },
     "execution_count": 11,
     "metadata": {},
     "output_type": "execute_result"
    }
   ],
   "source": [
    "nlp_qa(context = yrkkh.loc[0,'Summary'],question = \"What does the Naira do?\")"
   ]
  },
  {
   "cell_type": "code",
   "execution_count": 5,
   "metadata": {},
   "outputs": [
    {
     "data": {
      "text/plain": [
       "{'score': 0.7051987125928001, 'start': 7, 'end': 14, 'answer': 'slapped'}"
      ]
     },
     "execution_count": 5,
     "metadata": {},
     "output_type": "execute_result"
    }
   ],
   "source": [
    "nlp_qa(context='Kartik slapped Nair on the cheek', question='What did Kartik do to Naira ?')"
   ]
  },
  {
   "cell_type": "code",
   "execution_count": 8,
   "metadata": {},
   "outputs": [
    {
     "data": {
      "text/plain": [
       "{'score': 0.1116902160119837, 'start': 25, 'end': 36, 'answer': 'on the cheek'}"
      ]
     },
     "execution_count": 8,
     "metadata": {},
     "output_type": "execute_result"
    }
   ],
   "source": [
    "nlp_qa(context='Kartik slapped Nair hard on the cheek', question='Where did Kartik slap Naira')"
   ]
  },
  {
   "cell_type": "code",
   "execution_count": 7,
   "metadata": {},
   "outputs": [
    {
     "data": {
      "text/plain": [
       "{'score': 0.4961000050041733,\n",
       " 'start': 20,\n",
       " 'end': 36,\n",
       " 'answer': 'hard on the cheek'}"
      ]
     },
     "execution_count": 7,
     "metadata": {},
     "output_type": "execute_result"
    }
   ],
   "source": [
    "nlp_qa(context='Kartik slapped Nair hard on the cheek', question='How did Kartik slap Naira?')"
   ]
  },
  {
   "cell_type": "code",
   "execution_count": 9,
   "metadata": {},
   "outputs": [
    {
     "data": {
      "text/plain": [
       "{'score': 0.6766734665618372, 'start': 11, 'end': 21, 'answer': 'pissed off'}"
      ]
     },
     "execution_count": 9,
     "metadata": {},
     "output_type": "execute_result"
    }
   ],
   "source": [
    "nlp_qa(context='Kaushik is pissed off at Rahul', question='How is Kaushik feeling?')"
   ]
  },
  {
   "cell_type": "code",
   "execution_count": 10,
   "metadata": {},
   "outputs": [
    {
     "data": {
      "text/plain": [
       "{'score': 0.9917307210254336, 'start': 25, 'end': 29, 'answer': 'Rahul'}"
      ]
     },
     "execution_count": 10,
     "metadata": {},
     "output_type": "execute_result"
    }
   ],
   "source": [
    "nlp_qa(context='Kaushik is pissed off at Rahul', question='Whos is Kaushik pissed at?')"
   ]
  },
  {
   "cell_type": "code",
   "execution_count": 19,
   "metadata": {},
   "outputs": [
    {
     "data": {
      "text/plain": [
       "{'score': 0.7699294917143185, 'start': 19, 'end': 29, 'answer': 'a new car.'}"
      ]
     },
     "execution_count": 19,
     "metadata": {},
     "output_type": "execute_result"
    }
   ],
   "source": [
    "nlp_qa(context='Pushkar has bought a new car. He parks it outside his home', question=\"What did Pushkar buy?\")"
   ]
  },
  {
   "cell_type": "code",
   "execution_count": 20,
   "metadata": {},
   "outputs": [
    {
     "data": {
      "text/plain": [
       "{'score': 0.920079967375294,\n",
       " 'start': 42,\n",
       " 'end': 57,\n",
       " 'answer': 'outside his home'}"
      ]
     },
     "execution_count": 20,
     "metadata": {},
     "output_type": "execute_result"
    }
   ],
   "source": [
    "nlp_qa(context='Pushkar has bought a new car. He parks it outside his home', \n",
    "       question=\"Where does Pushkar park his car?\")"
   ]
  },
  {
   "cell_type": "code",
   "execution_count": null,
   "metadata": {},
   "outputs": [],
   "source": []
  }
 ],
 "metadata": {
  "kernelspec": {
   "display_name": "Python 3",
   "language": "python",
   "name": "python3"
  },
  "language_info": {
   "codemirror_mode": {
    "name": "ipython",
    "version": 3
   },
   "file_extension": ".py",
   "mimetype": "text/x-python",
   "name": "python",
   "nbconvert_exporter": "python",
   "pygments_lexer": "ipython3",
   "version": "3.7.5"
  }
 },
 "nbformat": 4,
 "nbformat_minor": 4
}
